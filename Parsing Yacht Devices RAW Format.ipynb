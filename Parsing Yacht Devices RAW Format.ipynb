{
 "cells": [
  {
   "cell_type": "markdown",
   "id": "df48be9d-8314-4459-ba5b-ee7ec8b45bb3",
   "metadata": {},
   "source": [
    "# Parsing Yacht Devices' RAW Format\n",
    "\n",
    "This notebook contains notes and explanatory Python code for parsing Yacht Devices' RAW format\n",
    "\n",
    "### About Yacht Devices\n",
    "\n",
    "Yacht Devices, https://www.yachtd.com/, produces and sells a variety of electronic devices for boats. Notably for this context, it has several devices for connecting a personal computer to a NMEA 2000 network. For example, its YDNU-02 NMEA 2000 USB Gateway.\n",
    "\n",
    "The YDNU-02 supports multiple modes of data interchange between the NMEA 2000 network and the USB side of the bridge. However, Yacht Devices recommends RAW mode--a readable text format--for developers, \"because it is the easiest option.\"\n",
    "\n",
    "### About this Notebook\n",
    "\n",
    "Yacht Devices provides some guidance on parsing the RAW format but seems to assume an understanding of NMEA 2000 and access to the NMEA 2000 specification. The former which I lacked when I started this notebook; the latter which must be purchased from NMEA and cannot be disclosed if it is.\n",
    "\n",
    "This notebook was my attempt at explaining Yacht Devices' RAW format and NMEA 2000 more generally to myself. It is based on publicly available information from various sources, both primary and secondary. Notably, the CANboat project, which has built a series of tools for working with NMEA 2000 data and that has a collection of NMEA 2000 PGNs (Parameter Group Numbers) that have been reverse engineered. https://github.com/canboat/canboat.\n",
    "\n",
    "While this notebook is directed specifically at Yacht Devices' RAW format--it is the device I have at this time--I believe that the format is sufficiently close to generic NMEA 2000 that this notebook may be directionally informative for users of devices from other manufactures, e.g., Actisense."
   ]
  },
  {
   "cell_type": "markdown",
   "id": "3a3d3313-ce80-4293-b39e-a5f1d533cdfa",
   "metadata": {},
   "source": [
    "## Overview of RAW Format\n",
    "As described by Yacht Devices, the RAW format messages have the following form:\n",
    "\n",
    "`hh:mm:ss.ddd D msgid b0 b1 b2 b3 b4 b5 b6 b7<CR><LF>`\n",
    "\n",
    "where:\n",
    "  * hh:mm:sss.ddd — time of message transmission or reception, ddd are milliseconds;\n",
    "  * D — direction of the message (‘R’ — from NMEA 2000 to PC, ‘T’ — from PC to NMEA 2000);\n",
    "  * msgid — 29-bit message identifier in hexadecimal format (contains NMEA 2000 PGN and other fields);\n",
    "  * b0..b7 — message data bytes (from 1 to 8) in hexadecimal format;\n",
    "  * \\<CR>\\<LF> — end-of-line symbols (carriage return and line feed, decimal 13 and 10).\n",
    "\n",
    "https://www.yachtd.com/downloads/ydnu02.pdf (Last accessed Dec 28, 2021)."
   ]
  },
  {
   "cell_type": "markdown",
   "id": "cb657e14-5eb8-4290-8626-25ca8772f6d5",
   "metadata": {},
   "source": [
    "## Parsing Raw Format Strings"
   ]
  },
  {
   "cell_type": "markdown",
   "id": "2f1f5286-5e5a-4d39-87de-118d17b6c680",
   "metadata": {},
   "source": [
    "### 1. Time Stamp\n",
    "\n",
    "The time stamp is more-or-less self-explanatory. However, there are a few facets worth mentioning.\n",
    "\n",
    "  * __hh are 24 hours__ - self-explanatory\n",
    "  * __ddd is milliseconds__ - as indicated above, the ddd portion of the time stamp is in milliseconds, not tenths, hundredths, and thousandths as the decimal might suggest.\n",
    "  * __Time is UTC or from device start__ - if the device, e.g., YDNU-02, received the time from the NMEA 2000 network the time stamp is UTC; otherwise, the time stamp is the time from the device's start.\n",
    "  * __Zero padding__ - All values are zero padded, e.g., 5 minutes would be written as 05.\n",
    "  \n",
    "Python's strftime function can be used to parse this timestamp."
   ]
  },
  {
   "cell_type": "code",
   "execution_count": 1,
   "id": "ae2cb3b5-ee43-49a3-82d0-181f17d55136",
   "metadata": {},
   "outputs": [
    {
     "data": {
      "text/plain": [
       "datetime.time(17, 33, 21, 107000)"
      ]
     },
     "execution_count": 1,
     "metadata": {},
     "output_type": "execute_result"
    }
   ],
   "source": [
    "from datetime import datetime\n",
    "\n",
    "timestamp_str = '17:33:21.107'\n",
    "timestamp_obj = datetime.time(datetime.strptime(timestamp_str, '%H:%M:%S.%f'))\n",
    "timestamp_obj"
   ]
  },
  {
   "cell_type": "markdown",
   "id": "732bcc0c-bb12-47b3-bb2c-4d44a054751a",
   "metadata": {},
   "source": [
    "### 2. Direction\n",
    "\n",
    "The direction is also largely self-explanatory. 'R' indicates the message is from the NMEA 2000 network to the PC; 'T' indicates the other direction."
   ]
  },
  {
   "cell_type": "code",
   "execution_count": 2,
   "id": "1bc72e6f-3a8b-4039-abda-af082942f6e7",
   "metadata": {},
   "outputs": [
    {
     "data": {
      "text/plain": [
       "'R'"
      ]
     },
     "execution_count": 2,
     "metadata": {},
     "output_type": "execute_result"
    }
   ],
   "source": [
    "'R' # From NMEA 2000 to PC"
   ]
  },
  {
   "cell_type": "code",
   "execution_count": 3,
   "id": "3df2cddb-6712-418b-8460-f2cba7f2b585",
   "metadata": {},
   "outputs": [
    {
     "data": {
      "text/plain": [
       "'T'"
      ]
     },
     "execution_count": 3,
     "metadata": {},
     "output_type": "execute_result"
    }
   ],
   "source": [
    "'T' # From PC to NMEA 2000"
   ]
  },
  {
   "cell_type": "markdown",
   "id": "773aacf4-9da3-4715-8734-9922f98e4b43",
   "metadata": {},
   "source": [
    "### 3. Message Identifier\n",
    "\n",
    "As disclosed by Yacht Devices, the message identifier is 29 bits in hexadecimal format, and appears to correspond to the CAN identifier field as described in the 1999 article from NMEA, titled \"NMEA 2000 Explained - The Latest Word.\" https://www.nmea.org/Assets/2000-explained-white-paper.pdf (Last accessed Dec 28, 2021).\n",
    "\n",
    "The below table was reproduced from the 1999 NMEA article.\n",
    "\n",
    "| Bits    | Field          | Description                                                                 |\n",
    "|:--------|:---------------|:----------------------------------------------------------------------------|\n",
    "| 26 - 28 | Priority       | These bits have the most impact during network access arbitration           |\n",
    "| 24 - 25 | Reserved       | Reserved for future use                                                     |\n",
    "| 16 - 23 | Data ID Byte A | High-order byte of the parameter group number of the data being transmitted |\n",
    "| 08 - 15 | Data ID Byte B | • Low-order byte of the parameter group number for global addresses, or <br> • the destination address for non-global data groups    |\n",
    "| 00 - 07 | Source Address | Address of the transmitter \n",
    "\n",
    "However, according to the CANboat project the two reserved bits are now part of the PGN. See, https://github.com/canboat/canboat/issues/248.\n",
    "\n",
    "The 1999 NMEA article also states that \"NMEA 2000 adopts the J1939 / ISO 11783 use of the identification field.\" A more recent document describing J1939, shows bits 24 and 25 as the \"Data Page\" and \"Extended Data Page\" respectively, and states that they are part of the PGN. https://assets.vector.com/cms/content/know-how/_application-notes/AN-ION-1-3100_Introduction_to_J1939.pdf (Last accessed Dec 28, 2021).\n",
    "\n",
    "The below table was reproduced from the above linked introduction to J1939.\n",
    "\n",
    "| Priority | Extended Data Page | Data Page |PDU Format | PDU Specific | Source Address |\n",
    "|:---------|:-------------------|:----------|:----------|:-------------|:---------------|\n",
    "| 3 bit    | 1 bit              | 1 bit     | 8 bit     | 8 bit        | 8 bit          |\n",
    "\n",
    "It should also be noted that bits 8-15 are part of the parameter group number (PGN) if it is sent to all addresses (broadcast); otherwise, it is the destination address. Values 239 or less are specific addresses, values 240 or greater are implied to be broadcast. See above referenced J1939 introduction.\n",
    "\n",
    "Synthesizing the above, the message identifier can be described by the below visual.\n",
    "\n",
    "<center><img src=\"https://i.ibb.co/35xFDzd/can-msg-id.png\" width=\"800\"></center>"
   ]
  },
  {
   "cell_type": "markdown",
   "id": "2e9268d3-4c27-4735-893c-2a263f3b3cb4",
   "metadata": {},
   "source": [
    "#### 3.1 Extracting Fields from Message Identifier\n",
    "\n",
    "This section shows the use of bitwise operators to isolate the various components of the message identifier.\n",
    "\n",
    "The message identifier is in hexadecimal format; however, it is easier to understand its parsing in binary format."
   ]
  },
  {
   "cell_type": "code",
   "execution_count": 4,
   "id": "1675f9e1-0b7d-468c-9c22-b97273a38d10",
   "metadata": {},
   "outputs": [
    {
     "data": {
      "text/plain": [
       "'0b01001111101010000001100100011'"
      ]
     },
     "execution_count": 4,
     "metadata": {},
     "output_type": "execute_result"
    }
   ],
   "source": [
    "msgid = 0x9F50323\n",
    "format(msgid, '#031b')  # Show the value as binary with leading 0s as needed"
   ]
  },
  {
   "cell_type": "markdown",
   "id": "2b249594-7d24-4933-bb39-95f5ca1a212c",
   "metadata": {},
   "source": [
    "##### 3.1.1 Priority\n",
    "Shift the message identifier right 26 bits to get the left most three bits.\n",
    "\n",
    "Note that lower numbers have higher priority and if two messages have the same priority bits the remaining message identifier bits (read from left to right) will be used to determine priority"
   ]
  },
  {
   "cell_type": "code",
   "execution_count": 5,
   "id": "8e3b28c0-2040-4a91-9c62-3671b85862be",
   "metadata": {},
   "outputs": [
    {
     "name": "stdout",
     "output_type": "stream",
     "text": [
      "0b010\n"
     ]
    }
   ],
   "source": [
    "priority = 0b01001111101010000001100100011 >> 26\n",
    "print(format(priority, '#05b'))  # Show the value as binary with leading 0s as needed"
   ]
  },
  {
   "cell_type": "markdown",
   "id": "6900144e-d142-434d-99b1-384e1eadecbc",
   "metadata": {},
   "source": [
    "##### 3.1.2 Extended Data Page\n",
    "Shift the message identifier right 25 bits to get the left most four bits."
   ]
  },
  {
   "cell_type": "code",
   "execution_count": 6,
   "id": "94518dfc-56a6-4c05-b62d-26a34702cd07",
   "metadata": {},
   "outputs": [
    {
     "name": "stdout",
     "output_type": "stream",
     "text": [
      "0b0100\n"
     ]
    }
   ],
   "source": [
    "shifted = 0b01001111101010000001100100011 >> 25\n",
    "print(format(shifted, '#06b'))"
   ]
  },
  {
   "cell_type": "markdown",
   "id": "41a2c6f7-497a-4f8a-aab8-da0b56059f0d",
   "metadata": {},
   "source": [
    "Apply a bitwise-and to the shifted value and `0b1` to isolate the right most bit from the shifted value."
   ]
  },
  {
   "cell_type": "code",
   "execution_count": 7,
   "id": "4fb72df1-6ca5-4f02-ac19-66cc5d60062d",
   "metadata": {},
   "outputs": [
    {
     "name": "stdout",
     "output_type": "stream",
     "text": [
      "0b0\n"
     ]
    }
   ],
   "source": [
    "extended_data_page = shifted & 0b1\n",
    "del shifted\n",
    "print(format(extended_data_page, '#03b'))"
   ]
  },
  {
   "cell_type": "markdown",
   "id": "27ecb91c-dcfa-406c-b876-d6cbcef25606",
   "metadata": {},
   "source": [
    "##### 3.1.3 Data Page\n",
    "Shift the message identifier right 24 bits to get the five left most bits. Then apply a bitwise-and to the shifted value and `0b1` to isolate the right most bit from the shifted value"
   ]
  },
  {
   "cell_type": "code",
   "execution_count": 8,
   "id": "bf137101-8fc0-46cd-aa70-fb4c9bfa16a0",
   "metadata": {},
   "outputs": [
    {
     "name": "stdout",
     "output_type": "stream",
     "text": [
      "0b1\n"
     ]
    }
   ],
   "source": [
    "data_page = (0b01001111101010000001100100011 >> 24) & 0b1\n",
    "print(format(data_page, '#03b'))"
   ]
  },
  {
   "cell_type": "markdown",
   "id": "11f0daaf-2b56-492f-b403-54dbc4537b56",
   "metadata": {},
   "source": [
    "##### 3.1.4 PDU Format\n",
    "\n",
    "Shift the message identifier 16 bits to get the left most 13 bits. Then apply a bitwise-and to the shifted value and `0b11111111`, to isolate the right most eight bits from the shifted value."
   ]
  },
  {
   "cell_type": "code",
   "execution_count": 9,
   "id": "702da18e-92a6-461a-92f7-52283085e1a8",
   "metadata": {},
   "outputs": [
    {
     "name": "stdout",
     "output_type": "stream",
     "text": [
      "0b11110101\n"
     ]
    }
   ],
   "source": [
    "pdu_format = (0b01001111101010000001100100011 >> 16) & 0b11111111\n",
    "print(format(pdu_format, '#010b'))"
   ]
  },
  {
   "cell_type": "markdown",
   "id": "a30f709f-25d7-4636-a419-8e8724f0a79c",
   "metadata": {},
   "source": [
    "##### 3.1.5 PDU Specific\n",
    "Shift the message identifier 8 bits to get the left most 21 bits. Then apply a bitwise-and to the shifted value and `0b11111111`, to isolate the right most eight bits from the shifted value."
   ]
  },
  {
   "cell_type": "code",
   "execution_count": 10,
   "id": "7c148210-3b3f-4707-b6ee-32e934af05e9",
   "metadata": {},
   "outputs": [
    {
     "name": "stdout",
     "output_type": "stream",
     "text": [
      "0b00000011\n"
     ]
    }
   ],
   "source": [
    "pdu_specific = (0b01001111101010000001100100011 >> 8) & 0b11111111\n",
    "print(format(pdu_specific, '#010b'))"
   ]
  },
  {
   "cell_type": "markdown",
   "id": "4047a2c5-e9ec-44bd-a01e-e3414260ee98",
   "metadata": {},
   "source": [
    "##### 3.1.6 Source\n",
    "Then apply a bitwise-and to the message identifier and `0b11111111`, to isolate the right most eight bits from the message identifier."
   ]
  },
  {
   "cell_type": "code",
   "execution_count": 11,
   "id": "01f492bb-2d2a-4c99-9dee-57524b218486",
   "metadata": {},
   "outputs": [
    {
     "name": "stdout",
     "output_type": "stream",
     "text": [
      "0b00100011\n"
     ]
    }
   ],
   "source": [
    "source = 0b01001111101010000001100100011 & 0b11111111\n",
    "print(format(source, '#010b'))"
   ]
  },
  {
   "cell_type": "markdown",
   "id": "ba70b909-406b-4392-a1b4-bec766c0724f",
   "metadata": {},
   "source": [
    "#### 3.2 Assembling the PGN\n",
    "\n",
    "As described above, the PGN is either:\n",
    "  * the combination of the Extended Data Page, Data Page, PDU Format, and PDU Specific if the message is directed to a specific address--known as __PDU1__ format; or,\n",
    "  * those same fields minus PDU specific if the message is broadcast to all addresses--known as __PDU2__ format."
   ]
  },
  {
   "cell_type": "markdown",
   "id": "86ccfbc2-38e9-4462-ba65-7bd02e2504ce",
   "metadata": {},
   "source": [
    "Shift the extended data page 17 bits to the left, which leaves room (zeros) for the other fields to be added.\n",
    "\n",
    "_Note: as far as I can tell, the extended data page is always 0 (as of this writing) so this move is somewhat insignificant._"
   ]
  },
  {
   "cell_type": "code",
   "execution_count": 12,
   "id": "fc5a2a33-4b4d-400f-8a94-cd155a570148",
   "metadata": {},
   "outputs": [
    {
     "name": "stdout",
     "output_type": "stream",
     "text": [
      "0b000000000000000000\n"
     ]
    }
   ],
   "source": [
    "extended_data_page_shifted = extended_data_page << 17\n",
    "print(format(extended_data_page_shifted, '#020b'))"
   ]
  },
  {
   "cell_type": "markdown",
   "id": "1a81ef89-2dcb-4894-bde9-6d1c396cdfa5",
   "metadata": {},
   "source": [
    "Similarly, shift the extended data page by 16 bits and the PDU format by 8 bits."
   ]
  },
  {
   "cell_type": "code",
   "execution_count": 13,
   "id": "9851bf23-de20-463c-87ca-8c49d0692c32",
   "metadata": {},
   "outputs": [
    {
     "name": "stdout",
     "output_type": "stream",
     "text": [
      "0b00000000000000000\n"
     ]
    }
   ],
   "source": [
    "data_page_shifted = data_page << 16\n",
    "print(format(extended_data_page_shifted, '#019b'))"
   ]
  },
  {
   "cell_type": "code",
   "execution_count": 14,
   "id": "b6ba6b00-1f71-4409-b819-fd121fbff0e2",
   "metadata": {},
   "outputs": [
    {
     "name": "stdout",
     "output_type": "stream",
     "text": [
      "0b1111010100000000\n"
     ]
    }
   ],
   "source": [
    "pdu_format_shifted = pdu_format << 8\n",
    "print(format(pdu_format_shifted, '#018b'))"
   ]
  },
  {
   "cell_type": "markdown",
   "id": "5eb609c1-ac81-470b-9c8f-5a6c658fa782",
   "metadata": {},
   "source": [
    "##### 3.2.1 PDU1\n",
    "Use PDU1 where the PDU Specific is 239 or less\n",
    "\n",
    "_In this case the PDU is not 239 or less_"
   ]
  },
  {
   "cell_type": "code",
   "execution_count": 15,
   "id": "4834329b-3f85-4900-b23f-a384c173fd3f",
   "metadata": {},
   "outputs": [],
   "source": [
    "if pdu_format <= 239:\n",
    "    pgn = extended_data_page_shifted + data_page_shifted + pdu_format_shifted\n",
    "    print(format(pgn, '#020b'))"
   ]
  },
  {
   "cell_type": "markdown",
   "id": "ad2dd315-12d1-43f4-918d-dfacf260417b",
   "metadata": {},
   "source": [
    "##### 3.2.2 PDU2\n",
    "Use PDU2 where the PDU Specific is 240 or more"
   ]
  },
  {
   "cell_type": "code",
   "execution_count": 16,
   "id": "9bb87ac0-c740-4ec9-a23a-1ef17e896b0c",
   "metadata": {},
   "outputs": [
    {
     "name": "stdout",
     "output_type": "stream",
     "text": [
      "0b011111010100000011\n"
     ]
    }
   ],
   "source": [
    "if pdu_format >= 240:\n",
    "    pgn = extended_data_page_shifted + data_page_shifted + pdu_format_shifted + pdu_specific\n",
    "    print(format(pgn, '#020b'))"
   ]
  },
  {
   "cell_type": "markdown",
   "id": "12dce3c4-e32c-4086-95b1-0dfbb392cd46",
   "metadata": {},
   "source": [
    "#### 3.3 A Complete Parsing Function\n",
    "Combining the above, a function to parse the message id can be written as follows."
   ]
  },
  {
   "cell_type": "code",
   "execution_count": 17,
   "id": "3ce10468-bdb0-4007-b498-0b3716a9e313",
   "metadata": {},
   "outputs": [
    {
     "data": {
      "text/plain": [
       "{'priority': 2, 'source': 35, 'destination': 255, 'png': 128259}"
      ]
     },
     "execution_count": 17,
     "metadata": {},
     "output_type": "execute_result"
    }
   ],
   "source": [
    "def parse_msgid(msgid):\n",
    "    \"\"\"Parses msgid into its component parts.\n",
    "\n",
    "    Parameters\n",
    "    ----------\n",
    "    msgid: str\n",
    "        msgid as hex encoded string.\n",
    "\n",
    "    Returns: dict\n",
    "        {\n",
    "            priority,\n",
    "            source,\n",
    "            destination,\n",
    "            png\n",
    "        }\n",
    "\n",
    "    \"\"\"\n",
    "\n",
    "    msgid = int(msgid, base=16)\n",
    "\n",
    "    priority = msgid >> 26\n",
    "    extended_data_page = (msgid >> 25) & 0b1\n",
    "    data_page = (msgid >> 24) & 0b1\n",
    "    source = msgid & 0b11111111\n",
    "\n",
    "    # Assemble PGN\n",
    "    extended_data_page_shifted = extended_data_page << 17\n",
    "    data_page_shifted = data_page << 16\n",
    "    pdu_format_shifted = pdu_format << 8\n",
    "\n",
    "    if pdu_format < 240:\n",
    "        # PDU1 format\n",
    "        pgn = (extended_data_page << 17) + (data_page_shifted << 16) + (pdu_format_shifted << 8)\n",
    "        destination = pdu_specific\n",
    "    else:\n",
    "        # PDU2 format\n",
    "        pgn = extended_data_page_shifted + data_page_shifted + pdu_format_shifted + pdu_specific\n",
    "        destination = 0b11111111  # Implies global destination\n",
    "\n",
    "    return {\n",
    "        'priority': priority,\n",
    "        'source': source,\n",
    "        'destination': destination,\n",
    "        'png': pgn\n",
    "    }\n",
    "\n",
    "\n",
    "parse_msgid('9F50323')"
   ]
  },
  {
   "cell_type": "markdown",
   "id": "c64f8766-5646-4579-86c9-8444112fc2d7",
   "metadata": {},
   "source": [
    "#### 3.4 Deciphering PGNs\n",
    "\n",
    "NMEA has a publicly accessible PGN search, available at https://www.nmea.org/content/STANDARDS/nmea_2000_pgn__search.\n",
    "\n",
    "Searching for the above extracted PGN, 128259, shows that the PGN is for \"Speed\" and further describes it as, _\"The purpose of this PGN is to provide a single transmission that describes the motion of a vessel.\"_"
   ]
  },
  {
   "cell_type": "markdown",
   "id": "2dc02f23-2bf9-4b45-9b90-7e73970c4bb3",
   "metadata": {},
   "source": [
    "### 4. Message Data Bytes\n",
    "The values themselves, e.g., the speed, are stored in the eight message data bytes that follow the message id.\n",
    "\n",
    "A full and conical understanding of the message data bytes is only possible with access to the NMEA 2000 specification, which as noted in the introduction, must be purchased and cannot be disclosed once it is. That said, there is a fair amount of information that has been publicly disclosed by NMEA or been reverse engineered by others, notably by the CANboat project, also mentioned in the introduction.\n",
    "\n",
    "One of the most useful documents publicly available on NMEA's website is a 2015 listing of PGNs along with their fields, marked v2.101. https://www.nmea.org/Assets/20151026%20nmea%202000%20pgn_website_description_list.pdf (Last accessed Dec. 28, 2021)\n",
    "\n",
    "The NMEA PGN document enumerates six fields for PGN 128259 (Speed); the below table was reproduced from the 1999 NMEA article.\n",
    "\n",
    "\n",
    "| Field # | Field Description           |\n",
    "|:-------:|:----------------------------|\n",
    "|       1 | Sequence ID                 |\n",
    "|       2 | Speed Water Referenced      |\n",
    "|       3 | Speed Ground Referenced     |\n",
    "|       4 | Speed Water Referenced Type |\n",
    "|       5 | Speed Direction             |\n",
    "|       6 | NMEA Reserved               |"
   ]
  },
  {
   "cell_type": "markdown",
   "id": "8e599804-46fe-49ea-97d7-c6752a3abfb6",
   "metadata": {},
   "source": [
    "#### 3.4.1 Speed Water Referenced\n",
    "The above linked PNG descriptions do not specify how many bytes a given field takes; however, looking at the below message data--PGN 128259 from an Airmar DST810--it's clear that some fields are more than one byte.  The above table describes six fields but there are eight bytes in the data message.\n",
    "\n",
    "Looking at some sample data, it appears that only two of the bytes are changing. Presumably these must be associated with field two, Speed Water Referenced—it’s the only value that I believe should be changing."
   ]
  },
  {
   "cell_type": "code",
   "execution_count": 18,
   "id": "65aecedc-d244-45d5-b115-9beca3e220c7",
   "metadata": {},
   "outputs": [],
   "source": [
    "msg_data = [\n",
    "    'FF 00 00 FF FF 00 FF FF',\n",
    "    'FF 17 00 FF FF 00 FF FF',\n",
    "    'FF 25 00 FF FF 00 FF FF',\n",
    "    'FF 4A 00 FF FF 00 FF FF',\n",
    "    'FF 01 01 FF FF 00 FF FF',\n",
    "    'FF 9A 01 FF FF 00 FF FF',\n",
    "    'FF 15 02 FF FF 00 FF FF',\n",
    "    'FF C2 02 FF FF 00 FF FF']"
   ]
  },
  {
   "cell_type": "markdown",
   "id": "9c26a790-8359-4d6a-a67b-dbb46e06c96f",
   "metadata": {},
   "source": [
    "To understand the speed that the message data bytes are encoding, I sent the messages to a test NMEA 2000 network consisting of a Yacht Device YDNU-02 NMEA 2000 USB Gateway and a B&G Triton display.  The speed values shown by the Triton display for each message are below. \n",
    "\n",
    "_Note: Be careful that the display is not dampening the output._"
   ]
  },
  {
   "cell_type": "code",
   "execution_count": 19,
   "id": "794d536d-ea44-477f-915a-ab48ce88364a",
   "metadata": {},
   "outputs": [],
   "source": [
    "msg_data_w_values = {\n",
    "    'FF 00 00 FF FF 00 FF FF': 0,\n",
    "    'FF 17 00 FF FF 00 FF FF': 0.4,\n",
    "    'FF 25 00 FF FF 00 FF FF': 0.7,\n",
    "    'FF 4A 00 FF FF 00 FF FF': 1.4,\n",
    "    'FF 01 01 FF FF 00 FF FF': 5.0,\n",
    "    'FF 9A 01 FF FF 00 FF FF': 8.0,\n",
    "    'FF 15 02 FF FF 00 FF FF': 10.4,\n",
    "    'FF C2 02 FF FF 00 FF FF': 13.7}"
   ]
  },
  {
   "cell_type": "markdown",
   "id": "25f10d35-6b40-4a23-a01d-a1782642bd56",
   "metadata": {},
   "source": [
    "The speed values shown on the Triton display are in nautical miles per hour (knots).  However, the message data bytes appear to use meters per second (m/s), as discussed in this issue on the canboatjs project, https://github.com/canboat/canboatjs/issues/172.\n",
    "\n",
    "A nautical mile is 1,852 meters.  As such 1 m/s is equal to (1 meter / 1,852 meter) * 60 seconds * 60 minutes or roughly 1.944 knots."
   ]
  },
  {
   "cell_type": "code",
   "execution_count": 20,
   "id": "0d76c5e8-69ba-44b2-80de-8f4794d50589",
   "metadata": {},
   "outputs": [],
   "source": [
    "def ms_to_kn(ms):\n",
    "    \"\"\"Converts meters per second to knots\"\"\"\n",
    "    METERS_IN_NM = 1852\n",
    "    SECONDS_IN_HOUR = 3600\n",
    "    km_in_ms = (1 / METERS_IN_NM) * SECONDS_IN_HOUR\n",
    "    return ms * km_in_ms\n",
    "\n",
    "\n",
    "# A simple test to ensure ms_to_kn is returning the expect result\n",
    "from math import isclose\n",
    "assert isclose(ms_to_kn(1), 1.944, abs_tol=1e-3)"
   ]
  },
  {
   "cell_type": "markdown",
   "id": "f8602254-f348-43c5-80f9-1adc66a13e97",
   "metadata": {},
   "source": [
    "As described above, the speed water referenced appears to be encoded in bytes 1 and 2. Further, experimentation appears to indicate that b1 is the lest significant byte.\n",
    "\n",
    "| b0 |   b1   |   b2   | b3 | b4 | b5 | b6 | b7 |\n",
    "|----|--------|--------|----|----|----|----|----|\n",
    "| FF | __9A__ | __01__ | FF | FF | 00 | FF | FF |\n",
    "\n",
    "_Note: the division by one hundred was added after seeing that the order of magnitude was off._"
   ]
  },
  {
   "cell_type": "code",
   "execution_count": 21,
   "id": "45e5db5e-ace2-4804-aaef-a9d77a496058",
   "metadata": {},
   "outputs": [
    {
     "data": {
      "text/plain": [
       "7.96976241900648"
      ]
     },
     "execution_count": 21,
     "metadata": {},
     "output_type": "execute_result"
    }
   ],
   "source": [
    "ms_to_kn(0x019A) / 100"
   ]
  },
  {
   "cell_type": "markdown",
   "id": "39ce1de4-6a71-4784-ac10-17144b3a0775",
   "metadata": {},
   "source": [
    "####  3.4.2 Other Fields\n",
    "The other fields are seemingly of less interest, and I have not taken the effort to independently reverse engineer them.  Although, the CANboat project shows that 0 in byte five indicates a \"Paddle wheel\" which would be correct in the case of the DST810 sensor. https://github.com/canboat/canboat/blob/master/analyzer/pgns.json"
   ]
  }
 ],
 "metadata": {
  "kernelspec": {
   "display_name": "Python 3 (ipykernel)",
   "language": "python",
   "name": "python3"
  },
  "language_info": {
   "codemirror_mode": {
    "name": "ipython",
    "version": 3
   },
   "file_extension": ".py",
   "mimetype": "text/x-python",
   "name": "python",
   "nbconvert_exporter": "python",
   "pygments_lexer": "ipython3",
   "version": "3.9.7"
  }
 },
 "nbformat": 4,
 "nbformat_minor": 5
}
